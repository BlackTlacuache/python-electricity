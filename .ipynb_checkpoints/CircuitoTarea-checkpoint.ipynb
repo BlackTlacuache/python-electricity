{
 "cells": [
  {
   "cell_type": "markdown",
   "id": "3cbfab27-cad1-4d05-9b24-7ceaed645a17",
   "metadata": {},
   "source": [
    "# Importamos librerías para simular un circuito"
   ]
  },
  {
   "cell_type": "code",
   "execution_count": 1,
   "id": "5027ff22-0026-4797-84e7-fd80bbe8b03a",
   "metadata": {},
   "outputs": [
    {
     "data": {
      "text/html": [
       "        <script type=\"text/javascript\">\n",
       "        window.PlotlyConfig = {MathJaxConfig: 'local'};\n",
       "        if (window.MathJax && window.MathJax.Hub && window.MathJax.Hub.Config) {window.MathJax.Hub.Config({SVG: {font: \"STIX-Web\"}});}\n",
       "        if (typeof require !== 'undefined') {\n",
       "        require.undef(\"plotly\");\n",
       "        requirejs.config({\n",
       "            paths: {\n",
       "                'plotly': ['https://cdn.plot.ly/plotly-2.14.0.min']\n",
       "            }\n",
       "        });\n",
       "        require(['plotly'], function(Plotly) {\n",
       "            window._Plotly = Plotly;\n",
       "        });\n",
       "        }\n",
       "        </script>\n",
       "        "
      ]
     },
     "metadata": {},
     "output_type": "display_data"
    },
    {
     "data": {
      "text/html": [
       "        <script type=\"text/javascript\">\n",
       "        window.PlotlyConfig = {MathJaxConfig: 'local'};\n",
       "        if (window.MathJax && window.MathJax.Hub && window.MathJax.Hub.Config) {window.MathJax.Hub.Config({SVG: {font: \"STIX-Web\"}});}\n",
       "        if (typeof require !== 'undefined') {\n",
       "        require.undef(\"plotly\");\n",
       "        requirejs.config({\n",
       "            paths: {\n",
       "                'plotly': ['https://cdn.plot.ly/plotly-2.14.0.min']\n",
       "            }\n",
       "        });\n",
       "        require(['plotly'], function(Plotly) {\n",
       "            window._Plotly = Plotly;\n",
       "        });\n",
       "        }\n",
       "        </script>\n",
       "        "
      ]
     },
     "metadata": {},
     "output_type": "display_data"
    },
    {
     "data": {
      "text/html": [
       "        <script type=\"text/javascript\">\n",
       "        window.PlotlyConfig = {MathJaxConfig: 'local'};\n",
       "        if (window.MathJax && window.MathJax.Hub && window.MathJax.Hub.Config) {window.MathJax.Hub.Config({SVG: {font: \"STIX-Web\"}});}\n",
       "        if (typeof require !== 'undefined') {\n",
       "        require.undef(\"plotly\");\n",
       "        requirejs.config({\n",
       "            paths: {\n",
       "                'plotly': ['https://cdn.plot.ly/plotly-2.14.0.min']\n",
       "            }\n",
       "        });\n",
       "        require(['plotly'], function(Plotly) {\n",
       "            window._Plotly = Plotly;\n",
       "        });\n",
       "        }\n",
       "        </script>\n",
       "        "
      ]
     },
     "metadata": {},
     "output_type": "display_data"
    }
   ],
   "source": [
    "import PySpice.Logging.Logging as Logging\n",
    "from PySpice.Spice.Netlist import Circuit\n",
    "from PySpice.Unit import *\n",
    "import pandas as pd\n",
    "import numpy as np\n",
    "import matplotlib.pyplot as plt\n",
    "from plotly.offline import download_plotlyjs, init_notebook_mode, plot, iplot\n",
    "from IPython.display import display, HTML #Conf 1\n",
    "import cufflinks as cf\n",
    "init_notebook_mode(connected=True) #Conf 2\n",
    "cf.go_offline() # Conf 2\n",
    "#cf.set_config_file(offline=True) Conf 1\n",
    "%matplotlib inline\n",
    "\n",
    "logger = Logging.setup_logging()"
   ]
  },
  {
   "cell_type": "markdown",
   "id": "c513bb32-8ee8-4835-ac68-2f96993a10a2",
   "metadata": {},
   "source": [
    "## Empezamos definiendo los elementos del circuito\n",
    "A continuación se muestra como se deben introducir los elementos:\n",
    "\n",
    "- Resistencia --> circuito.R(«Nombre», «Polo positivo», «Polo negativo», «Resistencia»)\n",
    "\n",
    "- Fuente de corriente --> circuito.I(«Nombre», «Polo negativo», «Polo positivo», «Corriente»)\n",
    "\n",
    "- Fuente de Tensión --> circuito.V(«Nombre», «Polo positivo», «Polo negativo», «Tensión»)\n",
    "\n",
    "- Fuente de Tensión controlada por tensión\n",
    "    \\--> circuit.VCVS(«Nombre», «OUT positivo», «OUT negativo», «IN positivo», «IN negativo», «ganancia») circuito.E para llamar\n",
    "    \n",
    "- Fuente de Tensión controlada por corriente\n",
    "    \\--> circuito.H ó circuit.CCVS(«Nombre», «OUT positivo», «OUT negativo», «Dispositivo source», «ganancia»)\n",
    "    \n",
    "- Fuente de corriente controlada por corriente\n",
    "    \\--> circuito.F ó circuit.CCCS(«Nombre», «OUT negativo», «OUT positivo», «Dispositivo source», «ganancia»)\n",
    "    \n",
    "- Fuente de corriente controlada por tensión\n",
    "    \\--> circuit.VCCS(«Nombre», «OUT negativo», «OUT positivo», «IN positivo», «IN negativo», «ganancia») circuito.G para llamar\n",
    "    \n",
    "Tenga en cuenta que el flujo de la corriente en las fuentes de corriente es del primer polo al segundo, es por eso que invertí los polos en este \"manual\"."
   ]
  },
  {
   "cell_type": "code",
   "execution_count": 2,
   "id": "9c1d4be7-1b40-4ae3-861d-6075ca196a77",
   "metadata": {},
   "outputs": [
    {
     "data": {
      "text/plain": [
       "VoltageControlledVoltageSource E1"
      ]
     },
     "execution_count": 2,
     "metadata": {},
     "output_type": "execute_result"
    }
   ],
   "source": [
    "circuit = Circuit('Fuentes Controladas y técnicas algorítmicas')\n",
    "\n",
    "GND = circuit.gnd\n",
    "\n",
    "circuit.R(1, 1, 4, 10@u_Ω)\n",
    "circuit.R(2, 2, GND, 20@u_Ω)\n",
    "circuit.R(3, 3, 2, 50@u_Ω)\n",
    "circuit.I(1, GND, 1, 3@u_A)\n",
    "circuit.I(2, GND, 3, 5@u_A)\n",
    "circuit.VCVS(1, 4, 3, 2, GND, 3)\n",
    "# circuit.V('aux', 3, 'x', 0)\n",
    "# circuit.CCCS(1, 1, 2, 'R3', 2)"
   ]
  },
  {
   "cell_type": "markdown",
   "id": "f93ab584-5e83-4fa3-80cb-bd0fad36d6ef",
   "metadata": {},
   "source": [
    "## Añadimos voltímetros o amperímetros antes de simularlo"
   ]
  },
  {
   "cell_type": "code",
   "execution_count": 3,
   "id": "42df83bb-54e2-4bd7-9cc3-a85dddfbadef",
   "metadata": {},
   "outputs": [],
   "source": [
    "elementos = list(circuit.element_names)\n",
    "resistencias = []\n",
    "for i in elementos:\n",
    "    if 'R' in i:\n",
    "        resistencias.append(i)"
   ]
  },
  {
   "cell_type": "code",
   "execution_count": 4,
   "id": "96362481-efa8-4164-8c6e-be73393731d5",
   "metadata": {},
   "outputs": [],
   "source": [
    "for i in resistencias:\n",
    "    circuit[i].plus.add_current_probe(circuit)"
   ]
  },
  {
   "cell_type": "markdown",
   "id": "12e207aa-9339-4802-8b3a-64d970cd2c9c",
   "metadata": {},
   "source": [
    "### Las fuentes controladas de corriente se pondrán aquí\n",
    "Ponemos las fuentes de corriente luego de poner los respectivos instrumentos de medición, con el fin de usar la lectura hecha por el instrumento de medición, así nos evitamos la colocación de una fuente de tensión, con valor 0."
   ]
  },
  {
   "cell_type": "code",
   "execution_count": 5,
   "id": "c9f78278-d577-4895-a7ac-c295101ed0ec",
   "metadata": {},
   "outputs": [
    {
     "data": {
      "text/plain": [
       "CurrentControlledCurrentSource F1"
      ]
     },
     "execution_count": 5,
     "metadata": {},
     "output_type": "execute_result"
    }
   ],
   "source": [
    "circuit.CCCS(1, 1, 2, 'VR3_plus', 2)"
   ]
  },
  {
   "cell_type": "markdown",
   "id": "9f35735f-12e9-43e4-92c6-03c61cd2d0c4",
   "metadata": {},
   "source": [
    "## Simulamos"
   ]
  },
  {
   "cell_type": "code",
   "execution_count": 6,
   "id": "c1fdad7b-e236-4202-9135-46ae012f7866",
   "metadata": {},
   "outputs": [
    {
     "name": "stdout",
     "output_type": "stream",
     "text": [
      "\u001b[1;32m2022-10-11 13:14:56,265\u001b[0m - \u001b[1;34mPySpice.Spice.NgSpice.Shared.NgSpiceShared._init_ngspice\u001b[0m - \u001b[1;31mWARNING\u001b[0m - Unsupported Ngspice version 37\n"
     ]
    }
   ],
   "source": [
    "simulador = circuit.simulator(temperature=25, nominal_temperature=25)\n",
    "analisis = simulador.operating_point()"
   ]
  },
  {
   "cell_type": "markdown",
   "id": "5dee230a-9891-4884-9407-cfd49119da86",
   "metadata": {},
   "source": [
    "# Extracción y procesamiento de la información "
   ]
  },
  {
   "cell_type": "markdown",
   "id": "1943e35a-40c6-4115-9663-54bfdfd18660",
   "metadata": {},
   "source": [
    "## A continuación vamos a almacenar los datos de los instrumentos de medición en diferentes diccionarios"
   ]
  },
  {
   "cell_type": "code",
   "execution_count": 7,
   "id": "0813c4fe-c4b2-4c2b-96e2-9244561db81a",
   "metadata": {},
   "outputs": [
    {
     "name": "stdout",
     "output_type": "stream",
     "text": [
      "3: 293.33 V\n",
      "1: 750.0 V\n",
      "2: 160.0 V\n",
      "r3_plus: 293.33 V\n",
      "r2_plus: 160.0 V\n",
      "4: 773.33 V\n",
      "r1_plus: 750.0 V\n",
      "vr1_plus: -2.33 A\n",
      "vr2_plus: 8.0 A\n",
      "e1: -2.33 A\n",
      "vr3_plus: 2.67 A\n"
     ]
    }
   ],
   "source": [
    "corrientes = {}\n",
    "tensiones = {}\n",
    "for node in analisis.nodes.values():\n",
    "    tensiones[str(node)] = round(float(node),2)\n",
    "    print(f'{str(node)}: {round(float(node),2)} V')\n",
    "    \n",
    "for branch in analisis.branches.values():\n",
    "    corrientes[str(branch)] = round(float(branch),2)\n",
    "    print(f'{str(branch)}: {round(float(branch),2)} A')"
   ]
  },
  {
   "cell_type": "markdown",
   "id": "80f4c7bf-991e-405c-a335-e8b60b7e9394",
   "metadata": {},
   "source": [
    "- Los número solos son los nodos, \n",
    "- los r{}\\_plus son las terminales positivas de las resistencias\n",
    "- e1 es la fuente de tensión controlada por tensión\n",
    "- vprueba es la fuente de tensión de 0 voltios que se añade como source para la fuente de corriente controlada por corriente\n",
    "- x es un nodo que se crea al añadir la fuente de 0 V"
   ]
  },
  {
   "cell_type": "markdown",
   "id": "828851df-4dab-4284-a727-3e8716b97ce8",
   "metadata": {},
   "source": [
    "## Ahora vamos a clasificar cada tipo de elemento en listas\n",
    "así: \n",
    "- cs será para las fuentes de corriente.\n",
    "- cvs será para las fuentes de tensión controladas.\n",
    "- ccs será para las fuentes de corriente controladas.\n",
    "- vs será para las fuentes de tensión.\n",
    "- r para las resistencias.\n",
    "- Y med para los instrumentos de medida"
   ]
  },
  {
   "cell_type": "code",
   "execution_count": 8,
   "id": "2af9ae3f-de7d-4ce1-be73-4dc949589145",
   "metadata": {},
   "outputs": [],
   "source": [
    "cs = []\n",
    "cvs = []\n",
    "ccs = []\n",
    "vs = []\n",
    "r = []\n",
    "med = []\n",
    "for i in list(circuit.element_names):\n",
    "    if 'I' in i:\n",
    "        cs.append(i)\n",
    "    elif 'V' in i and not 'R' in i:\n",
    "        vs.append(i)\n",
    "    elif 'R' in i and not 'plus' in i:\n",
    "        r.append(i)\n",
    "    elif 'aux' in i or 'E' in i or 'H' in i:\n",
    "        cvs.append(i)\n",
    "    elif 'F' in i or 'G' in i:\n",
    "        ccs.append(i)\n",
    "    else:\n",
    "        med.append(i)"
   ]
  },
  {
   "cell_type": "markdown",
   "id": "edb26578-9c77-464d-9008-00f26ab5d859",
   "metadata": {},
   "source": [
    "## Tensiones y corrientes de fuentes\n",
    "Las tensiones y corrientes de los elementos están en las variables tensiones y corrientes en forma de diccionarios, pero las tensiones y corrientes de las diferentes fuentes no están en ninguna variable, por eso crearemos las variables en forma de diccionario Fcorriente y Ftension, con el fin de hacer más accesibles estos valores eléctricos de cada fuente"
   ]
  },
  {
   "cell_type": "code",
   "execution_count": 9,
   "id": "c47fda8f-197f-40f9-8aee-3af59f4c953d",
   "metadata": {},
   "outputs": [],
   "source": [
    "Fcorriente = {}\n",
    "Ftension = {}\n",
    "for i in cs:\n",
    "    if 'I' in i:\n",
    "        Fcorriente[i] = float(circuit[i].dc_value)\n",
    "        \n",
    "for i in vs:\n",
    "    if 'V' in i:\n",
    "        Ftension[i] = float(circuit[i].dc_value)"
   ]
  },
  {
   "cell_type": "markdown",
   "id": "16ac8f81-daac-4796-b1a1-aebba2c158a8",
   "metadata": {},
   "source": [
    "Ahora podemos acceder al valor de las fuentes de corriente o tensión invocándolos desde un diccionario"
   ]
  },
  {
   "cell_type": "code",
   "execution_count": 10,
   "id": "bdc6efee-0a48-4145-aa21-37c288f1878b",
   "metadata": {},
   "outputs": [
    {
     "data": {
      "text/plain": [
       "3.0"
      ]
     },
     "execution_count": 10,
     "metadata": {},
     "output_type": "execute_result"
    }
   ],
   "source": [
    "Fcorriente['I1']"
   ]
  },
  {
   "cell_type": "markdown",
   "id": "9d27852d-9b25-4817-ab6a-99c4235e039d",
   "metadata": {},
   "source": [
    "## Valores de resistencias"
   ]
  },
  {
   "cell_type": "code",
   "execution_count": 11,
   "id": "7a76a106-37c2-4289-bfda-e10d20f0110e",
   "metadata": {},
   "outputs": [],
   "source": [
    "Vresistencia = {}\n",
    "for i in resistencias:\n",
    "    Vresistencia[i] = float(circuit[i].resistance.value)"
   ]
  },
  {
   "cell_type": "code",
   "execution_count": 12,
   "id": "67ff6610-99c6-4d7b-be94-160be20a04d5",
   "metadata": {},
   "outputs": [
    {
     "data": {
      "text/plain": [
       "{'R1': 10.0, 'R2': 20.0, 'R3': 50.0}"
      ]
     },
     "execution_count": 12,
     "metadata": {},
     "output_type": "execute_result"
    }
   ],
   "source": [
    "Vresistencia"
   ]
  },
  {
   "cell_type": "markdown",
   "id": "70b27a9d-8bf1-4cc6-9f74-a8f2db175ce5",
   "metadata": {},
   "source": [
    "# Para construir el diagrama AVOW necesitamos:\n",
    "- Construir un data frame para graficarlo, por ejemplo tenemos este:"
   ]
  },
  {
   "cell_type": "code",
   "execution_count": 13,
   "id": "37f49967-ab92-445a-a2d7-962591874a58",
   "metadata": {},
   "outputs": [
    {
     "data": {
      "text/html": [
       "<div>\n",
       "<style scoped>\n",
       "    .dataframe tbody tr th:only-of-type {\n",
       "        vertical-align: middle;\n",
       "    }\n",
       "\n",
       "    .dataframe tbody tr th {\n",
       "        vertical-align: top;\n",
       "    }\n",
       "\n",
       "    .dataframe thead th {\n",
       "        text-align: right;\n",
       "    }\n",
       "</style>\n",
       "<table border=\"1\" class=\"dataframe\">\n",
       "  <thead>\n",
       "    <tr style=\"text-align: right;\">\n",
       "      <th></th>\n",
       "      <th>x</th>\n",
       "      <th>y</th>\n",
       "    </tr>\n",
       "  </thead>\n",
       "  <tbody>\n",
       "    <tr>\n",
       "      <th>0</th>\n",
       "      <td>p</td>\n",
       "      <td>1</td>\n",
       "    </tr>\n",
       "    <tr>\n",
       "      <th>1</th>\n",
       "      <td>q</td>\n",
       "      <td>2</td>\n",
       "    </tr>\n",
       "    <tr>\n",
       "      <th>2</th>\n",
       "      <td>r</td>\n",
       "      <td>3</td>\n",
       "    </tr>\n",
       "  </tbody>\n",
       "</table>\n",
       "</div>"
      ],
      "text/plain": [
       "   x  y\n",
       "0  p  1\n",
       "1  q  2\n",
       "2  r  3"
      ]
     },
     "execution_count": 13,
     "metadata": {},
     "output_type": "execute_result"
    }
   ],
   "source": [
    "df2 = pd.DataFrame({'x':['p','q','r'], 'y':[1,2,3]})\n",
    "df2"
   ]
  },
  {
   "cell_type": "code",
   "execution_count": 14,
   "id": "cdd5fc00-f6d0-4b1d-baac-20c31ddfb680",
   "metadata": {},
   "outputs": [
    {
     "data": {
      "application/vnd.plotly.v1+json": {
       "config": {
        "linkText": "Export to plot.ly",
        "plotlyServerURL": "https://plot.ly",
        "showLink": true
       },
       "data": [
        {
         "line": {
          "color": "rgba(226, 74, 51, 1.0)",
          "dash": "solid",
          "shape": "linear",
          "width": 1.3
         },
         "mode": "lines",
         "name": "y",
         "text": "",
         "type": "scatter",
         "x": [
          "p",
          "q",
          "r"
         ],
         "y": [
          1,
          2,
          3
         ]
        }
       ],
       "layout": {
        "autosize": true,
        "legend": {
         "bgcolor": "#FFFFFF",
         "font": {
          "color": "#666666"
         }
        },
        "paper_bgcolor": "#FFFFFF",
        "plot_bgcolor": "#E5E5E5",
        "template": {
         "data": {
          "bar": [
           {
            "error_x": {
             "color": "#2a3f5f"
            },
            "error_y": {
             "color": "#2a3f5f"
            },
            "marker": {
             "line": {
              "color": "#E5ECF6",
              "width": 0.5
             },
             "pattern": {
              "fillmode": "overlay",
              "size": 10,
              "solidity": 0.2
             }
            },
            "type": "bar"
           }
          ],
          "barpolar": [
           {
            "marker": {
             "line": {
              "color": "#E5ECF6",
              "width": 0.5
             },
             "pattern": {
              "fillmode": "overlay",
              "size": 10,
              "solidity": 0.2
             }
            },
            "type": "barpolar"
           }
          ],
          "carpet": [
           {
            "aaxis": {
             "endlinecolor": "#2a3f5f",
             "gridcolor": "white",
             "linecolor": "white",
             "minorgridcolor": "white",
             "startlinecolor": "#2a3f5f"
            },
            "baxis": {
             "endlinecolor": "#2a3f5f",
             "gridcolor": "white",
             "linecolor": "white",
             "minorgridcolor": "white",
             "startlinecolor": "#2a3f5f"
            },
            "type": "carpet"
           }
          ],
          "choropleth": [
           {
            "colorbar": {
             "outlinewidth": 0,
             "ticks": ""
            },
            "type": "choropleth"
           }
          ],
          "contour": [
           {
            "colorbar": {
             "outlinewidth": 0,
             "ticks": ""
            },
            "colorscale": [
             [
              0,
              "#0d0887"
             ],
             [
              0.1111111111111111,
              "#46039f"
             ],
             [
              0.2222222222222222,
              "#7201a8"
             ],
             [
              0.3333333333333333,
              "#9c179e"
             ],
             [
              0.4444444444444444,
              "#bd3786"
             ],
             [
              0.5555555555555556,
              "#d8576b"
             ],
             [
              0.6666666666666666,
              "#ed7953"
             ],
             [
              0.7777777777777778,
              "#fb9f3a"
             ],
             [
              0.8888888888888888,
              "#fdca26"
             ],
             [
              1,
              "#f0f921"
             ]
            ],
            "type": "contour"
           }
          ],
          "contourcarpet": [
           {
            "colorbar": {
             "outlinewidth": 0,
             "ticks": ""
            },
            "type": "contourcarpet"
           }
          ],
          "heatmap": [
           {
            "colorbar": {
             "outlinewidth": 0,
             "ticks": ""
            },
            "colorscale": [
             [
              0,
              "#0d0887"
             ],
             [
              0.1111111111111111,
              "#46039f"
             ],
             [
              0.2222222222222222,
              "#7201a8"
             ],
             [
              0.3333333333333333,
              "#9c179e"
             ],
             [
              0.4444444444444444,
              "#bd3786"
             ],
             [
              0.5555555555555556,
              "#d8576b"
             ],
             [
              0.6666666666666666,
              "#ed7953"
             ],
             [
              0.7777777777777778,
              "#fb9f3a"
             ],
             [
              0.8888888888888888,
              "#fdca26"
             ],
             [
              1,
              "#f0f921"
             ]
            ],
            "type": "heatmap"
           }
          ],
          "heatmapgl": [
           {
            "colorbar": {
             "outlinewidth": 0,
             "ticks": ""
            },
            "colorscale": [
             [
              0,
              "#0d0887"
             ],
             [
              0.1111111111111111,
              "#46039f"
             ],
             [
              0.2222222222222222,
              "#7201a8"
             ],
             [
              0.3333333333333333,
              "#9c179e"
             ],
             [
              0.4444444444444444,
              "#bd3786"
             ],
             [
              0.5555555555555556,
              "#d8576b"
             ],
             [
              0.6666666666666666,
              "#ed7953"
             ],
             [
              0.7777777777777778,
              "#fb9f3a"
             ],
             [
              0.8888888888888888,
              "#fdca26"
             ],
             [
              1,
              "#f0f921"
             ]
            ],
            "type": "heatmapgl"
           }
          ],
          "histogram": [
           {
            "marker": {
             "pattern": {
              "fillmode": "overlay",
              "size": 10,
              "solidity": 0.2
             }
            },
            "type": "histogram"
           }
          ],
          "histogram2d": [
           {
            "colorbar": {
             "outlinewidth": 0,
             "ticks": ""
            },
            "colorscale": [
             [
              0,
              "#0d0887"
             ],
             [
              0.1111111111111111,
              "#46039f"
             ],
             [
              0.2222222222222222,
              "#7201a8"
             ],
             [
              0.3333333333333333,
              "#9c179e"
             ],
             [
              0.4444444444444444,
              "#bd3786"
             ],
             [
              0.5555555555555556,
              "#d8576b"
             ],
             [
              0.6666666666666666,
              "#ed7953"
             ],
             [
              0.7777777777777778,
              "#fb9f3a"
             ],
             [
              0.8888888888888888,
              "#fdca26"
             ],
             [
              1,
              "#f0f921"
             ]
            ],
            "type": "histogram2d"
           }
          ],
          "histogram2dcontour": [
           {
            "colorbar": {
             "outlinewidth": 0,
             "ticks": ""
            },
            "colorscale": [
             [
              0,
              "#0d0887"
             ],
             [
              0.1111111111111111,
              "#46039f"
             ],
             [
              0.2222222222222222,
              "#7201a8"
             ],
             [
              0.3333333333333333,
              "#9c179e"
             ],
             [
              0.4444444444444444,
              "#bd3786"
             ],
             [
              0.5555555555555556,
              "#d8576b"
             ],
             [
              0.6666666666666666,
              "#ed7953"
             ],
             [
              0.7777777777777778,
              "#fb9f3a"
             ],
             [
              0.8888888888888888,
              "#fdca26"
             ],
             [
              1,
              "#f0f921"
             ]
            ],
            "type": "histogram2dcontour"
           }
          ],
          "mesh3d": [
           {
            "colorbar": {
             "outlinewidth": 0,
             "ticks": ""
            },
            "type": "mesh3d"
           }
          ],
          "parcoords": [
           {
            "line": {
             "colorbar": {
              "outlinewidth": 0,
              "ticks": ""
             }
            },
            "type": "parcoords"
           }
          ],
          "pie": [
           {
            "automargin": true,
            "type": "pie"
           }
          ],
          "scatter": [
           {
            "fillpattern": {
             "fillmode": "overlay",
             "size": 10,
             "solidity": 0.2
            },
            "type": "scatter"
           }
          ],
          "scatter3d": [
           {
            "line": {
             "colorbar": {
              "outlinewidth": 0,
              "ticks": ""
             }
            },
            "marker": {
             "colorbar": {
              "outlinewidth": 0,
              "ticks": ""
             }
            },
            "type": "scatter3d"
           }
          ],
          "scattercarpet": [
           {
            "marker": {
             "colorbar": {
              "outlinewidth": 0,
              "ticks": ""
             }
            },
            "type": "scattercarpet"
           }
          ],
          "scattergeo": [
           {
            "marker": {
             "colorbar": {
              "outlinewidth": 0,
              "ticks": ""
             }
            },
            "type": "scattergeo"
           }
          ],
          "scattergl": [
           {
            "marker": {
             "colorbar": {
              "outlinewidth": 0,
              "ticks": ""
             }
            },
            "type": "scattergl"
           }
          ],
          "scattermapbox": [
           {
            "marker": {
             "colorbar": {
              "outlinewidth": 0,
              "ticks": ""
             }
            },
            "type": "scattermapbox"
           }
          ],
          "scatterpolar": [
           {
            "marker": {
             "colorbar": {
              "outlinewidth": 0,
              "ticks": ""
             }
            },
            "type": "scatterpolar"
           }
          ],
          "scatterpolargl": [
           {
            "marker": {
             "colorbar": {
              "outlinewidth": 0,
              "ticks": ""
             }
            },
            "type": "scatterpolargl"
           }
          ],
          "scatterternary": [
           {
            "marker": {
             "colorbar": {
              "outlinewidth": 0,
              "ticks": ""
             }
            },
            "type": "scatterternary"
           }
          ],
          "surface": [
           {
            "colorbar": {
             "outlinewidth": 0,
             "ticks": ""
            },
            "colorscale": [
             [
              0,
              "#0d0887"
             ],
             [
              0.1111111111111111,
              "#46039f"
             ],
             [
              0.2222222222222222,
              "#7201a8"
             ],
             [
              0.3333333333333333,
              "#9c179e"
             ],
             [
              0.4444444444444444,
              "#bd3786"
             ],
             [
              0.5555555555555556,
              "#d8576b"
             ],
             [
              0.6666666666666666,
              "#ed7953"
             ],
             [
              0.7777777777777778,
              "#fb9f3a"
             ],
             [
              0.8888888888888888,
              "#fdca26"
             ],
             [
              1,
              "#f0f921"
             ]
            ],
            "type": "surface"
           }
          ],
          "table": [
           {
            "cells": {
             "fill": {
              "color": "#EBF0F8"
             },
             "line": {
              "color": "white"
             }
            },
            "header": {
             "fill": {
              "color": "#C8D4E3"
             },
             "line": {
              "color": "white"
             }
            },
            "type": "table"
           }
          ]
         },
         "layout": {
          "annotationdefaults": {
           "arrowcolor": "#2a3f5f",
           "arrowhead": 0,
           "arrowwidth": 1
          },
          "autotypenumbers": "strict",
          "coloraxis": {
           "colorbar": {
            "outlinewidth": 0,
            "ticks": ""
           }
          },
          "colorscale": {
           "diverging": [
            [
             0,
             "#8e0152"
            ],
            [
             0.1,
             "#c51b7d"
            ],
            [
             0.2,
             "#de77ae"
            ],
            [
             0.3,
             "#f1b6da"
            ],
            [
             0.4,
             "#fde0ef"
            ],
            [
             0.5,
             "#f7f7f7"
            ],
            [
             0.6,
             "#e6f5d0"
            ],
            [
             0.7,
             "#b8e186"
            ],
            [
             0.8,
             "#7fbc41"
            ],
            [
             0.9,
             "#4d9221"
            ],
            [
             1,
             "#276419"
            ]
           ],
           "sequential": [
            [
             0,
             "#0d0887"
            ],
            [
             0.1111111111111111,
             "#46039f"
            ],
            [
             0.2222222222222222,
             "#7201a8"
            ],
            [
             0.3333333333333333,
             "#9c179e"
            ],
            [
             0.4444444444444444,
             "#bd3786"
            ],
            [
             0.5555555555555556,
             "#d8576b"
            ],
            [
             0.6666666666666666,
             "#ed7953"
            ],
            [
             0.7777777777777778,
             "#fb9f3a"
            ],
            [
             0.8888888888888888,
             "#fdca26"
            ],
            [
             1,
             "#f0f921"
            ]
           ],
           "sequentialminus": [
            [
             0,
             "#0d0887"
            ],
            [
             0.1111111111111111,
             "#46039f"
            ],
            [
             0.2222222222222222,
             "#7201a8"
            ],
            [
             0.3333333333333333,
             "#9c179e"
            ],
            [
             0.4444444444444444,
             "#bd3786"
            ],
            [
             0.5555555555555556,
             "#d8576b"
            ],
            [
             0.6666666666666666,
             "#ed7953"
            ],
            [
             0.7777777777777778,
             "#fb9f3a"
            ],
            [
             0.8888888888888888,
             "#fdca26"
            ],
            [
             1,
             "#f0f921"
            ]
           ]
          },
          "colorway": [
           "#636efa",
           "#EF553B",
           "#00cc96",
           "#ab63fa",
           "#FFA15A",
           "#19d3f3",
           "#FF6692",
           "#B6E880",
           "#FF97FF",
           "#FECB52"
          ],
          "font": {
           "color": "#2a3f5f"
          },
          "geo": {
           "bgcolor": "white",
           "lakecolor": "white",
           "landcolor": "#E5ECF6",
           "showlakes": true,
           "showland": true,
           "subunitcolor": "white"
          },
          "hoverlabel": {
           "align": "left"
          },
          "hovermode": "closest",
          "mapbox": {
           "style": "light"
          },
          "paper_bgcolor": "white",
          "plot_bgcolor": "#E5ECF6",
          "polar": {
           "angularaxis": {
            "gridcolor": "white",
            "linecolor": "white",
            "ticks": ""
           },
           "bgcolor": "#E5ECF6",
           "radialaxis": {
            "gridcolor": "white",
            "linecolor": "white",
            "ticks": ""
           }
          },
          "scene": {
           "xaxis": {
            "backgroundcolor": "#E5ECF6",
            "gridcolor": "white",
            "gridwidth": 2,
            "linecolor": "white",
            "showbackground": true,
            "ticks": "",
            "zerolinecolor": "white"
           },
           "yaxis": {
            "backgroundcolor": "#E5ECF6",
            "gridcolor": "white",
            "gridwidth": 2,
            "linecolor": "white",
            "showbackground": true,
            "ticks": "",
            "zerolinecolor": "white"
           },
           "zaxis": {
            "backgroundcolor": "#E5ECF6",
            "gridcolor": "white",
            "gridwidth": 2,
            "linecolor": "white",
            "showbackground": true,
            "ticks": "",
            "zerolinecolor": "white"
           }
          },
          "shapedefaults": {
           "line": {
            "color": "#2a3f5f"
           }
          },
          "ternary": {
           "aaxis": {
            "gridcolor": "white",
            "linecolor": "white",
            "ticks": ""
           },
           "baxis": {
            "gridcolor": "white",
            "linecolor": "white",
            "ticks": ""
           },
           "bgcolor": "#E5ECF6",
           "caxis": {
            "gridcolor": "white",
            "linecolor": "white",
            "ticks": ""
           }
          },
          "title": {
           "x": 0.05
          },
          "xaxis": {
           "automargin": true,
           "gridcolor": "white",
           "linecolor": "white",
           "ticks": "",
           "title": {
            "standoff": 15
           },
           "zerolinecolor": "white",
           "zerolinewidth": 2
          },
          "yaxis": {
           "automargin": true,
           "gridcolor": "white",
           "linecolor": "white",
           "ticks": "",
           "title": {
            "standoff": 15
           },
           "zerolinecolor": "white",
           "zerolinewidth": 2
          }
         }
        },
        "title": {
         "font": {
          "color": "#151516"
         }
        },
        "xaxis": {
         "autorange": true,
         "gridcolor": "#F6F6F6",
         "range": [
          0,
          2
         ],
         "showgrid": true,
         "tickfont": {
          "color": "#666666"
         },
         "title": {
          "font": {
           "color": "#666666"
          },
          "text": ""
         },
         "type": "category",
         "zerolinecolor": "#F6F6F6"
        },
        "yaxis": {
         "autorange": true,
         "gridcolor": "#F6F6F6",
         "range": [
          0.8888888888888888,
          3.111111111111111
         ],
         "showgrid": true,
         "tickfont": {
          "color": "#666666"
         },
         "title": {
          "font": {
           "color": "#666666"
          },
          "text": ""
         },
         "type": "linear",
         "zerolinecolor": "#F6F6F6"
        }
       }
      },
      "image/png": "[encoded data removed]",
      "text/html": [
       "<div>                            <div id=\"83a358d6-3172-4070-9bd6-e47d05ab658c\" class=\"plotly-graph-div\" style=\"height:525px; width:100%;\"></div>            <script type=\"text/javascript\">                require([\"plotly\"], function(Plotly) {                    window.PLOTLYENV=window.PLOTLYENV || {};\n",
       "                    window.PLOTLYENV.BASE_URL='https://plot.ly';                                    if (document.getElementById(\"83a358d6-3172-4070-9bd6-e47d05ab658c\")) {                    Plotly.newPlot(                        \"83a358d6-3172-4070-9bd6-e47d05ab658c\",                        [{\"line\":{\"color\":\"rgba(226, 74, 51, 1.0)\",\"dash\":\"solid\",\"shape\":\"linear\",\"width\":1.3},\"mode\":\"lines\",\"name\":\"y\",\"text\":\"\",\"x\":[\"p\",\"q\",\"r\"],\"y\":[1,2,3],\"type\":\"scatter\"}],                        {\"legend\":{\"bgcolor\":\"#FFFFFF\",\"font\":{\"color\":\"#666666\"}},\"paper_bgcolor\":\"#FFFFFF\",\"plot_bgcolor\":\"#E5E5E5\",\"template\":{\"data\":{\"barpolar\":[{\"marker\":{\"line\":{\"color\":\"#E5ECF6\",\"width\":0.5},\"pattern\":{\"fillmode\":\"overlay\",\"size\":10,\"solidity\":0.2}},\"type\":\"barpolar\"}],\"bar\":[{\"error_x\":{\"color\":\"#2a3f5f\"},\"error_y\":{\"color\":\"#2a3f5f\"},\"marker\":{\"line\":{\"color\":\"#E5ECF6\",\"width\":0.5},\"pattern\":{\"fillmode\":\"overlay\",\"size\":10,\"solidity\":0.2}},\"type\":\"bar\"}],\"carpet\":[{\"aaxis\":{\"endlinecolor\":\"#2a3f5f\",\"gridcolor\":\"white\",\"linecolor\":\"white\",\"minorgridcolor\":\"white\",\"startlinecolor\":\"#2a3f5f\"},\"baxis\":{\"endlinecolor\":\"#2a3f5f\",\"gridcolor\":\"white\",\"linecolor\":\"white\",\"minorgridcolor\":\"white\",\"startlinecolor\":\"#2a3f5f\"},\"type\":\"carpet\"}],\"choropleth\":[{\"colorbar\":{\"outlinewidth\":0,\"ticks\":\"\"},\"type\":\"choropleth\"}],\"contourcarpet\":[{\"colorbar\":{\"outlinewidth\":0,\"ticks\":\"\"},\"type\":\"contourcarpet\"}],\"contour\":[{\"colorbar\":{\"outlinewidth\":0,\"ticks\":\"\"},\"colorscale\":[[0.0,\"#0d0887\"],[0.1111111111111111,\"#46039f\"],[0.2222222222222222,\"#7201a8\"],[0.3333333333333333,\"#9c179e\"],[0.4444444444444444,\"#bd3786\"],[0.5555555555555556,\"#d8576b\"],[0.6666666666666666,\"#ed7953\"],[0.7777777777777778,\"#fb9f3a\"],[0.8888888888888888,\"#fdca26\"],[1.0,\"#f0f921\"]],\"type\":\"contour\"}],\"heatmapgl\":[{\"colorbar\":{\"outlinewidth\":0,\"ticks\":\"\"},\"colorscale\":[[0.0,\"#0d0887\"],[0.1111111111111111,\"#46039f\"],[0.2222222222222222,\"#7201a8\"],[0.3333333333333333,\"#9c179e\"],[0.4444444444444444,\"#bd3786\"],[0.5555555555555556,\"#d8576b\"],[0.6666666666666666,\"#ed7953\"],[0.7777777777777778,\"#fb9f3a\"],[0.8888888888888888,\"#fdca26\"],[1.0,\"#f0f921\"]],\"type\":\"heatmapgl\"}],\"heatmap\":[{\"colorbar\":{\"outlinewidth\":0,\"ticks\":\"\"},\"colorscale\":[[0.0,\"#0d0887\"],[0.1111111111111111,\"#46039f\"],[0.2222222222222222,\"#7201a8\"],[0.3333333333333333,\"#9c179e\"],[0.4444444444444444,\"#bd3786\"],[0.5555555555555556,\"#d8576b\"],[0.6666666666666666,\"#ed7953\"],[0.7777777777777778,\"#fb9f3a\"],[0.8888888888888888,\"#fdca26\"],[1.0,\"#f0f921\"]],\"type\":\"heatmap\"}],\"histogram2dcontour\":[{\"colorbar\":{\"outlinewidth\":0,\"ticks\":\"\"},\"colorscale\":[[0.0,\"#0d0887\"],[0.1111111111111111,\"#46039f\"],[0.2222222222222222,\"#7201a8\"],[0.3333333333333333,\"#9c179e\"],[0.4444444444444444,\"#bd3786\"],[0.5555555555555556,\"#d8576b\"],[0.6666666666666666,\"#ed7953\"],[0.7777777777777778,\"#fb9f3a\"],[0.8888888888888888,\"#fdca26\"],[1.0,\"#f0f921\"]],\"type\":\"histogram2dcontour\"}],\"histogram2d\":[{\"colorbar\":{\"outlinewidth\":0,\"ticks\":\"\"},\"colorscale\":[[0.0,\"#0d0887\"],[0.1111111111111111,\"#46039f\"],[0.2222222222222222,\"#7201a8\"],[0.3333333333333333,\"#9c179e\"],[0.4444444444444444,\"#bd3786\"],[0.5555555555555556,\"#d8576b\"],[0.6666666666666666,\"#ed7953\"],[0.7777777777777778,\"#fb9f3a\"],[0.8888888888888888,\"#fdca26\"],[1.0,\"#f0f921\"]],\"type\":\"histogram2d\"}],\"histogram\":[{\"marker\":{\"pattern\":{\"fillmode\":\"overlay\",\"size\":10,\"solidity\":0.2}},\"type\":\"histogram\"}],\"mesh3d\":[{\"colorbar\":{\"outlinewidth\":0,\"ticks\":\"\"},\"type\":\"mesh3d\"}],\"parcoords\":[{\"line\":{\"colorbar\":{\"outlinewidth\":0,\"ticks\":\"\"}},\"type\":\"parcoords\"}],\"pie\":[{\"automargin\":true,\"type\":\"pie\"}],\"scatter3d\":[{\"line\":{\"colorbar\":{\"outlinewidth\":0,\"ticks\":\"\"}},\"marker\":{\"colorbar\":{\"outlinewidth\":0,\"ticks\":\"\"}},\"type\":\"scatter3d\"}],\"scattercarpet\":[{\"marker\":{\"colorbar\":{\"outlinewidth\":0,\"ticks\":\"\"}},\"type\":\"scattercarpet\"}],\"scattergeo\":[{\"marker\":{\"colorbar\":{\"outlinewidth\":0,\"ticks\":\"\"}},\"type\":\"scattergeo\"}],\"scattergl\":[{\"marker\":{\"colorbar\":{\"outlinewidth\":0,\"ticks\":\"\"}},\"type\":\"scattergl\"}],\"scattermapbox\":[{\"marker\":{\"colorbar\":{\"outlinewidth\":0,\"ticks\":\"\"}},\"type\":\"scattermapbox\"}],\"scatterpolargl\":[{\"marker\":{\"colorbar\":{\"outlinewidth\":0,\"ticks\":\"\"}},\"type\":\"scatterpolargl\"}],\"scatterpolar\":[{\"marker\":{\"colorbar\":{\"outlinewidth\":0,\"ticks\":\"\"}},\"type\":\"scatterpolar\"}],\"scatter\":[{\"fillpattern\":{\"fillmode\":\"overlay\",\"size\":10,\"solidity\":0.2},\"type\":\"scatter\"}],\"scatterternary\":[{\"marker\":{\"colorbar\":{\"outlinewidth\":0,\"ticks\":\"\"}},\"type\":\"scatterternary\"}],\"surface\":[{\"colorbar\":{\"outlinewidth\":0,\"ticks\":\"\"},\"colorscale\":[[0.0,\"#0d0887\"],[0.1111111111111111,\"#46039f\"],[0.2222222222222222,\"#7201a8\"],[0.3333333333333333,\"#9c179e\"],[0.4444444444444444,\"#bd3786\"],[0.5555555555555556,\"#d8576b\"],[0.6666666666666666,\"#ed7953\"],[0.7777777777777778,\"#fb9f3a\"],[0.8888888888888888,\"#fdca26\"],[1.0,\"#f0f921\"]],\"type\":\"surface\"}],\"table\":[{\"cells\":{\"fill\":{\"color\":\"#EBF0F8\"},\"line\":{\"color\":\"white\"}},\"header\":{\"fill\":{\"color\":\"#C8D4E3\"},\"line\":{\"color\":\"white\"}},\"type\":\"table\"}]},\"layout\":{\"annotationdefaults\":{\"arrowcolor\":\"#2a3f5f\",\"arrowhead\":0,\"arrowwidth\":1},\"autotypenumbers\":\"strict\",\"coloraxis\":{\"colorbar\":{\"outlinewidth\":0,\"ticks\":\"\"}},\"colorscale\":{\"diverging\":[[0,\"#8e0152\"],[0.1,\"#c51b7d\"],[0.2,\"#de77ae\"],[0.3,\"#f1b6da\"],[0.4,\"#fde0ef\"],[0.5,\"#f7f7f7\"],[0.6,\"#e6f5d0\"],[0.7,\"#b8e186\"],[0.8,\"#7fbc41\"],[0.9,\"#4d9221\"],[1,\"#276419\"]],\"sequential\":[[0.0,\"#0d0887\"],[0.1111111111111111,\"#46039f\"],[0.2222222222222222,\"#7201a8\"],[0.3333333333333333,\"#9c179e\"],[0.4444444444444444,\"#bd3786\"],[0.5555555555555556,\"#d8576b\"],[0.6666666666666666,\"#ed7953\"],[0.7777777777777778,\"#fb9f3a\"],[0.8888888888888888,\"#fdca26\"],[1.0,\"#f0f921\"]],\"sequentialminus\":[[0.0,\"#0d0887\"],[0.1111111111111111,\"#46039f\"],[0.2222222222222222,\"#7201a8\"],[0.3333333333333333,\"#9c179e\"],[0.4444444444444444,\"#bd3786\"],[0.5555555555555556,\"#d8576b\"],[0.6666666666666666,\"#ed7953\"],[0.7777777777777778,\"#fb9f3a\"],[0.8888888888888888,\"#fdca26\"],[1.0,\"#f0f921\"]]},\"colorway\":[\"#636efa\",\"#EF553B\",\"#00cc96\",\"#ab63fa\",\"#FFA15A\",\"#19d3f3\",\"#FF6692\",\"#B6E880\",\"#FF97FF\",\"#FECB52\"],\"font\":{\"color\":\"#2a3f5f\"},\"geo\":{\"bgcolor\":\"white\",\"lakecolor\":\"white\",\"landcolor\":\"#E5ECF6\",\"showlakes\":true,\"showland\":true,\"subunitcolor\":\"white\"},\"hoverlabel\":{\"align\":\"left\"},\"hovermode\":\"closest\",\"mapbox\":{\"style\":\"light\"},\"paper_bgcolor\":\"white\",\"plot_bgcolor\":\"#E5ECF6\",\"polar\":{\"angularaxis\":{\"gridcolor\":\"white\",\"linecolor\":\"white\",\"ticks\":\"\"},\"bgcolor\":\"#E5ECF6\",\"radialaxis\":{\"gridcolor\":\"white\",\"linecolor\":\"white\",\"ticks\":\"\"}},\"scene\":{\"xaxis\":{\"backgroundcolor\":\"#E5ECF6\",\"gridcolor\":\"white\",\"gridwidth\":2,\"linecolor\":\"white\",\"showbackground\":true,\"ticks\":\"\",\"zerolinecolor\":\"white\"},\"yaxis\":{\"backgroundcolor\":\"#E5ECF6\",\"gridcolor\":\"white\",\"gridwidth\":2,\"linecolor\":\"white\",\"showbackground\":true,\"ticks\":\"\",\"zerolinecolor\":\"white\"},\"zaxis\":{\"backgroundcolor\":\"#E5ECF6\",\"gridcolor\":\"white\",\"gridwidth\":2,\"linecolor\":\"white\",\"showbackground\":true,\"ticks\":\"\",\"zerolinecolor\":\"white\"}},\"shapedefaults\":{\"line\":{\"color\":\"#2a3f5f\"}},\"ternary\":{\"aaxis\":{\"gridcolor\":\"white\",\"linecolor\":\"white\",\"ticks\":\"\"},\"baxis\":{\"gridcolor\":\"white\",\"linecolor\":\"white\",\"ticks\":\"\"},\"bgcolor\":\"#E5ECF6\",\"caxis\":{\"gridcolor\":\"white\",\"linecolor\":\"white\",\"ticks\":\"\"}},\"title\":{\"x\":0.05},\"xaxis\":{\"automargin\":true,\"gridcolor\":\"white\",\"linecolor\":\"white\",\"ticks\":\"\",\"title\":{\"standoff\":15},\"zerolinecolor\":\"white\",\"zerolinewidth\":2},\"yaxis\":{\"automargin\":true,\"gridcolor\":\"white\",\"linecolor\":\"white\",\"ticks\":\"\",\"title\":{\"standoff\":15},\"zerolinecolor\":\"white\",\"zerolinewidth\":2}}},\"title\":{\"font\":{\"color\":\"#151516\"}},\"xaxis\":{\"gridcolor\":\"#F6F6F6\",\"showgrid\":true,\"tickfont\":{\"color\":\"#666666\"},\"title\":{\"font\":{\"color\":\"#666666\"},\"text\":\"\"},\"zerolinecolor\":\"#F6F6F6\"},\"yaxis\":{\"gridcolor\":\"#F6F6F6\",\"showgrid\":true,\"tickfont\":{\"color\":\"#666666\"},\"title\":{\"font\":{\"color\":\"#666666\"},\"text\":\"\"},\"zerolinecolor\":\"#F6F6F6\"}},                        {\"showLink\": true, \"linkText\": \"Export to plot.ly\", \"plotlyServerURL\": \"https://plot.ly\", \"responsive\": true}                    ).then(function(){\n",
       "                            \n",
       "var gd = document.getElementById('83a358d6-3172-4070-9bd6-e47d05ab658c');\n",
       "var x = new MutationObserver(function (mutations, observer) {{\n",
       "        var display = window.getComputedStyle(gd).display;\n",
       "        if (!display || display === 'none') {{\n",
       "            console.log([gd, 'removed!']);\n",
       "            Plotly.purge(gd);\n",
       "            observer.disconnect();\n",
       "        }}\n",
       "}});\n",
       "\n",
       "// Listen for the removal of the full notebook cells\n",
       "var notebookContainer = gd.closest('#notebook-container');\n",
       "if (notebookContainer) {{\n",
       "    x.observe(notebookContainer, {childList: true});\n",
       "}}\n",
       "\n",
       "// Listen for the clearing of the current output cell\n",
       "var outputEl = gd.closest('.output');\n",
       "if (outputEl) {{\n",
       "    x.observe(outputEl, {childList: true});\n",
       "}}\n",
       "\n",
       "                        })                };                });            </script>        </div>"
      ]
     },
     "metadata": {},
     "output_type": "display_data"
    }
   ],
   "source": [
    "# Al graficarlo nos queda:\n",
    "df2.iplot(kind='scatter',x='x',y='y')"
   ]
  },
  {
   "cell_type": "markdown",
   "id": "3c0754d5-5e03-4e79-91ec-2813ef76956e",
   "metadata": {},
   "source": [
    "## ¿A qué elementos se puede aplicar un mismo diagrama?\n",
    "El diagrama AVOW se puede aplicar a elementos con tensión igual o corriente igual, para la mayoría de casos quiere decir que deben haber tantos gráficos diferentes, como corrientes puedan existir, ya que es más común encontrar corrientes iguales, debido a que cada malla comparte una, pero en la intersección de cada par de mallas hay otra corriente."
   ]
  },
  {
   "cell_type": "code",
   "execution_count": 15,
   "id": "a4f883cc-7075-43f7-8191-6efc439f5209",
   "metadata": {},
   "outputs": [],
   "source": [
    "def AVOW(resistencias):\n",
    "    df = pd.DataFrame()"
   ]
  },
  {
   "cell_type": "markdown",
   "id": "8f990573-f8ff-497b-9e1b-22497ef83a18",
   "metadata": {},
   "source": [
    "# Desde aquí para abajo son pruebas de funcionamiento"
   ]
  },
  {
   "cell_type": "code",
   "execution_count": 16,
   "id": "51b4e377-f563-4e47-90a4-32292c51e87a",
   "metadata": {},
   "outputs": [
    {
     "data": {
      "text/plain": [
       "3"
      ]
     },
     "execution_count": 16,
     "metadata": {},
     "output_type": "execute_result"
    }
   ],
   "source": [
    "circuit['E1'].voltage_gain"
   ]
  },
  {
   "cell_type": "code",
   "execution_count": 17,
   "id": "3e03bba2-f84f-4f69-9e28-48a5a04a74ee",
   "metadata": {},
   "outputs": [
    {
     "data": {
      "text/plain": [
       "2"
      ]
     },
     "execution_count": 17,
     "metadata": {},
     "output_type": "execute_result"
    }
   ],
   "source": [
    "circuit['F1'].current_gain"
   ]
  },
  {
   "cell_type": "code",
   "execution_count": 18,
   "id": "3a877c0c-ccb6-44a2-84aa-b7dadf8946df",
   "metadata": {},
   "outputs": [
    {
     "data": {
      "text/plain": [
       "[Pin output_plus of E1 on node 4,\n",
       " Pin output_minus of E1 on node 3,\n",
       " Pin input_plus of E1 on node 2,\n",
       " Pin input_minus of E1 on node 0]"
      ]
     },
     "execution_count": 18,
     "metadata": {},
     "output_type": "execute_result"
    }
   ],
   "source": [
    "circuit.E1.pins"
   ]
  },
  {
   "cell_type": "code",
   "execution_count": 19,
   "id": "7997b0bf-176a-406a-b984-95aa0528d384",
   "metadata": {},
   "outputs": [
    {
     "data": {
      "text/plain": [
       "['R1', 'R2', 'R3', 'I1', 'I2', 'E1', 'VR1_plus', 'VR2_plus', 'VR3_plus', 'F1']"
      ]
     },
     "execution_count": 19,
     "metadata": {},
     "output_type": "execute_result"
    }
   ],
   "source": [
    "list(circuit.element_names)"
   ]
  },
  {
   "cell_type": "code",
   "execution_count": 20,
   "id": "85763267-dc79-4c4e-abf1-52531aa2faa6",
   "metadata": {},
   "outputs": [
    {
     "name": "stdout",
     "output_type": "stream",
     "text": [
      "Vamos a clasificarlos:\n",
      "Las resistencias son: ['R1', 'R2', 'R3']\n",
      "Las fuentes de tensión son: []\n",
      "Las fuentes de corriente son: ['I1', 'I2']\n",
      "Las fuentes controladas de corriente son: ['F1']\n",
      "Las fuentes controladas de tensión son: ['E1']\n",
      "Y por último los aparatos de medición son: ['VR1_plus', 'VR2_plus', 'VR3_plus']\n"
     ]
    }
   ],
   "source": [
    "print(\n",
    "    'Vamos a clasificarlos:\\n'\n",
    "    f'Las resistencias son: {r}\\n'\n",
    "    f'Las fuentes de tensión son: {vs}\\n'\n",
    "    f'Las fuentes de corriente son: {cs}\\n'\n",
    "    f'Las fuentes controladas de corriente son: {ccs}\\n'\n",
    "    f'Las fuentes controladas de tensión son: {cvs}\\n'\n",
    "    f'Y por último los aparatos de medición son: {med}'\n",
    ")"
   ]
  },
  {
   "cell_type": "code",
   "execution_count": 21,
   "id": "1571e4b1-ff1f-4eec-8230-56790d95ed0e",
   "metadata": {},
   "outputs": [
    {
     "data": {
      "text/plain": [
       "{'3': 293.33,\n",
       " '1': 750.0,\n",
       " '2': 160.0,\n",
       " 'r3_plus': 293.33,\n",
       " 'r2_plus': 160.0,\n",
       " '4': 773.33,\n",
       " 'r1_plus': 750.0}"
      ]
     },
     "execution_count": 21,
     "metadata": {},
     "output_type": "execute_result"
    }
   ],
   "source": [
    "tensiones"
   ]
  },
  {
   "cell_type": "code",
   "execution_count": 22,
   "id": "1c272885-fbd7-44f0-8efb-5b5a140fe880",
   "metadata": {},
   "outputs": [
    {
     "data": {
      "text/plain": [
       "{'vr1_plus': -2.33, 'vr2_plus': 8.0, 'e1': -2.33, 'vr3_plus': 2.67}"
      ]
     },
     "execution_count": 22,
     "metadata": {},
     "output_type": "execute_result"
    }
   ],
   "source": [
    "corrientes"
   ]
  }
 ],
 "metadata": {
  "kernelspec": {
   "display_name": "Python 3 (ipykernel)",
   "language": "python",
   "name": "python3"
  },
  "language_info": {
   "codemirror_mode": {
    "name": "ipython",
    "version": 3
   },
   "file_extension": ".py",
   "mimetype": "text/x-python",
   "name": "python",
   "nbconvert_exporter": "python",
   "pygments_lexer": "ipython3",
   "version": "3.10.7"
  }
 },
 "nbformat": 4,
 "nbformat_minor": 5
}
